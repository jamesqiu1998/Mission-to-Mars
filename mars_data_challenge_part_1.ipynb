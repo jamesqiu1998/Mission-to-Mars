{
 "cells": [
  {
   "cell_type": "code",
   "execution_count": 29,
   "id": "edabb0e2",
   "metadata": {},
   "outputs": [],
   "source": [
    "from splinter import Browser\n",
    "from bs4 import BeautifulSoup as soup\n",
    "from webdriver_manager.chrome import ChromeDriverManager\n",
    "import pandas as pd\n",
    "\n",
    "# Set up Splinter\n",
    "executable_path = {'executable_path': ChromeDriverManager().install()}\n",
    "browser = Browser('chrome', **executable_path, headless=False)\n",
    "\n",
    "# Visit the Mars Facts site\n",
    "url = 'https://redplanetscience.com'\n",
    "browser.visit(url)\n",
    "html = browser.html\n",
    "html_soup = soup(html, 'html.parser')\n"
   ]
  },
  {
   "cell_type": "code",
   "execution_count": 59,
   "id": "acbef48f",
   "metadata": {},
   "outputs": [
    {
     "data": {
      "text/plain": [
       "[{'Title': \"NASA's InSight Flexes Its Arm While Its 'Mole' Hits Pause\",\n",
       "  'Preview': \"Now that the lander's robotic arm has helped the mole get underground, it will resume science activities that have been on hold.\"},\n",
       " {'Title': \"NASA's Curiosity Mars Rover Takes a New Selfie Before Record Climb\",\n",
       "  'Preview': 'Along with capturing an image before its steepest ascent ever, the robotic explorer filmed its \"selfie stick,\" or robotic arm, in action.'},\n",
       " {'Title': 'Mars Scientists Investigate Ancient Life in Australia',\n",
       "  'Preview': \"Teams with NASA's Mars 2020 and ESA's ExoMars practiced hunting for fossilized microbial life in the Australian Outback in preparation for their Red Planet missions. \"},\n",
       " {'Title': \"Virginia Middle School Student Earns Honor of Naming NASA's Next Mars Rover\",\n",
       "  'Preview': 'NASA chose a seventh-grader from Virginia as winner of the agency\\'s \"Name the Rover\" essay contest. Alexander Mather\\'s entry for \"Perseverance\" was voted tops among 28,000 entries. '},\n",
       " {'Title': \"Q&A with the Student Who Named Ingenuity, NASA's Mars Helicopter\",\n",
       "  'Preview': 'As a longtime fan of space exploration, Vaneeza Rupani appreciates the creativity and collaboration involved with trying to fly on another planet.'},\n",
       " {'Title': \"NASA's Perseverance Rover Will Carry First Spacesuit Materials to Mars\",\n",
       "  'Preview': 'In a Q&A, spacesuit designer Amy Ross explains how five samples, including a piece of helmet visor, will be tested aboard the rover, which is targeting a July 30 launch. '},\n",
       " {'Title': 'NASA Invites Public to Share Excitement of Mars 2020 Perseverance Rover Launch',\n",
       "  'Preview': 'There are lots of ways to participate in the historic event, which is targeted for July 30.'},\n",
       " {'Title': 'NASA Invites Students to Name Mars 2020 Rover',\n",
       "  'Preview': \"Through Nov. 1, K-12 students in the U.S. are encouraged to enter an essay contest to name NASA's next Mars rover.\"},\n",
       " {'Title': \"Air Deliveries Bring NASA's Perseverance Mars Rover Closer to Launch\",\n",
       "  'Preview': \"A NASA Wallops Flight Facility cargo plane transported more than two tons of equipment — including the rover's sample collection tubes — to Florida for this summer's liftoff.\"},\n",
       " {'Title': 'NASA Perseverance Mars Rover Scientists Train in the Nevada Desert',\n",
       "  'Preview': \"Team members searched for signs of ancient microscopic life there, just as NASA's latest rover will on the Red Planet next year.\"},\n",
       " {'Title': 'NASA, ULA Launch Mars 2020 Perseverance Rover Mission to Red Planet',\n",
       "  'Preview': \"The agency's Mars 2020 mission is on its way. It will land at Jezero Crater in about seven months, on Feb. 18, 2021. \"},\n",
       " {'Title': 'Mars 2020 Unwrapped and Ready for More Testing',\n",
       "  'Preview': \"In time-lapse video, bunny-suited engineers remove the inner layer of protective foil on NASA's Mars 2020 rover after it was relocated for testing.\"},\n",
       " {'Title': 'New Selfie Shows Curiosity, the Mars Chemist',\n",
       "  'Preview': 'The NASA rover performed a special chemistry experiment at the location captured in its newest self-portrait.'},\n",
       " {'Title': \"NASA's Mars Helicopter Attached to Mars 2020 Rover \",\n",
       "  'Preview': 'The helicopter will be first aircraft to perform flight tests on another planet.'},\n",
       " {'Title': \"NASA Wins 4 Webbys, 4 People's Voice Awards\",\n",
       "  'Preview': 'Winners include the JPL-managed \"Send Your Name to Mars\" campaign, NASA\\'s Global Climate Change website and Solar System Interactive.'}]"
      ]
     },
     "execution_count": 59,
     "metadata": {},
     "output_type": "execute_result"
    }
   ],
   "source": [
    "article_list=[]\n",
    "info=html_soup.find_all('div',class_='list_text')\n",
    "\n",
    "for i in info:\n",
    "    title=i.find('div',class_='content_title').text\n",
    "    preview=i.find('div',class_='article_teaser_body').text\n",
    "    article={'Title':title,\"Preview\":preview}\n",
    "    article_list.append(article)\n",
    "article_list"
   ]
  },
  {
   "cell_type": "code",
   "execution_count": null,
   "id": "8b4d602b",
   "metadata": {},
   "outputs": [],
   "source": []
  }
 ],
 "metadata": {
  "kernelspec": {
   "display_name": "PythonData",
   "language": "python",
   "name": "pythondata"
  },
  "language_info": {
   "codemirror_mode": {
    "name": "ipython",
    "version": 3
   },
   "file_extension": ".py",
   "mimetype": "text/x-python",
   "name": "python",
   "nbconvert_exporter": "python",
   "pygments_lexer": "ipython3",
   "version": "3.7.13"
  }
 },
 "nbformat": 4,
 "nbformat_minor": 5
}
